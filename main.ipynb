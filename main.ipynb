{
 "cells": [
  {
   "cell_type": "code",
   "execution_count": 1,
   "metadata": {},
   "outputs": [],
   "source": [
    "from langchain_groq import ChatGroq\n",
    "import os \n",
    "from dotenv import load_dotenv\n",
    "\n",
    "load_dotenv()\n",
    "llm = ChatGroq(\n",
    "    temperature=0,\n",
    "    groq_api_key = os.environ['GROQ_KEY'],\n",
    "    model_name=\"llama-3.3-70b-versatile\"\n",
    ")\n",
    "\n",
    "# result = llm.invoke(\"What is Langgraph?\")\n",
    "# print(result.content)\n",
    "os.environ[\"LANGCHAIN_TRACING_V2\"] = \"true\"\n",
    "os.environ[\"LANGCHAIN_PROJECT\"] = \"langchain-academy\""
   ]
  },
  {
   "cell_type": "code",
   "execution_count": 2,
   "metadata": {},
   "outputs": [],
   "source": [
    "from pydantic import BaseModel, Field\n",
    "from typing import List\n",
    "from typing_extensions import TypedDict\n",
    "\n",
    "class Question(BaseModel):\n",
    "    question: str = Field(\n",
    "        question=\"The question asked by the examiner\",\n",
    "    )\n",
    "    @property\n",
    "    def qn(self) -> str:\n",
    "        return f\"Question: {self.question}\\n\"\n",
    "\n",
    "class Perspectives(BaseModel):\n",
    "    questions: List[Question] = Field(\n",
    "        description=\"List of questions asked by the examiner\",\n",
    "    )\n",
    "\n",
    "class GenerateQuestionsState(TypedDict):\n",
    "    grade: str # Grade that examiner teaches\n",
    "    subject: str # Subject that examiner teaches\n",
    "    max_questions: int # Number of questions\n",
    "    human_feedback: str # Human feedback\n",
    "    questions: List[Question] # Questions asked by examiner"
   ]
  },
  {
   "cell_type": "code",
   "execution_count": 3,
   "metadata": {},
   "outputs": [
    {
     "data": {
      "image/jpeg": "[encoded data removed]",
      "text/plain": [
       "<IPython.core.display.Image object>"
      ]
     },
     "metadata": {},
     "output_type": "display_data"
    }
   ],
   "source": [
    "from IPython.display import Image, display\n",
    "from langgraph.graph import START, END, StateGraph\n",
    "from langgraph.checkpoint.memory import MemorySaver\n",
    "from langchain_core.messages import AIMessage, HumanMessage, SystemMessage\n",
    "\n",
    "examiner_instructions=\"\"\"You are an examiner tasked with creating questions that will have detailed answers. Follow these instructions carefully:\n",
    "\n",
    "1. First, get the grade that the examiner teaches:\n",
    "{grade}\n",
    "        \n",
    "2. Then, get the subject that the examiner teaches:\n",
    "{subject}\n",
    "\n",
    "3. Examine any feedback given to guide the creation of questions: \n",
    "        \n",
    "{human_feedback}\n",
    "    \n",
    "4. Determine the questions appropriate for the grade and subject and consider human feedback if any.\n",
    "                    \n",
    "5. Return the top {max_questions} questions.\"\"\"\n",
    "\n",
    "def create_questions(state: GenerateQuestionsState):\n",
    "    \n",
    "    grade=state['grade']\n",
    "    subject=state['subject']\n",
    "    max_questions=state['max_questions']\n",
    "    human_feedback=state.get('human_feedback', '')\n",
    "        \n",
    "    # Enforce structured output\n",
    "    structured_llm = llm.with_structured_output(Perspectives)\n",
    "\n",
    "    # System message\n",
    "    system_message = examiner_instructions.format(grade=grade,\n",
    "                                                  subject=subject,\n",
    "                                                  human_feedback=human_feedback, \n",
    "                                                  max_questions=max_questions)\n",
    "\n",
    "    # Generate question \n",
    "    questions = structured_llm.invoke([SystemMessage(content=system_message)]+[HumanMessage(content=\"Generate the set of questions.\")])\n",
    "    \n",
    "    # Write the list of questionss to state\n",
    "    return {\"questions\": questions.questions}\n",
    "\n",
    "def feedback(state: GenerateQuestionsState):\n",
    "    \"\"\" No-op node that should be interrupted on \"\"\"\n",
    "    pass\n",
    "\n",
    "def should_continue(state: GenerateQuestionsState):\n",
    "    \"\"\" Return the next node to execute \"\"\"\n",
    "\n",
    "    # Check if human feedback\n",
    "    human_feedback=state.get('human_feedback', None)\n",
    "    if human_feedback:\n",
    "        return \"create_questions\"\n",
    "    \n",
    "    # Otherwise end\n",
    "    return END\n",
    "\n",
    "# Add nodes and edges \n",
    "builder = StateGraph(GenerateQuestionsState)\n",
    "builder.add_node(\"create_questions\", create_questions)\n",
    "builder.add_node(\"feedback\", feedback)\n",
    "builder.add_edge(START, \"create_questions\")\n",
    "builder.add_edge(\"create_questions\", \"feedback\")\n",
    "builder.add_conditional_edges(\"feedback\", should_continue, [\"create_questions\", END])\n",
    "\n",
    "# Compile\n",
    "memory = MemorySaver()\n",
    "graph = builder.compile(interrupt_before=['feedback'], checkpointer=memory)\n",
    "\n",
    "# View\n",
    "display(Image(graph.get_graph(xray=1).draw_mermaid_png()))"
   ]
  },
  {
   "cell_type": "code",
   "execution_count": 4,
   "metadata": {},
   "outputs": [
    {
     "name": "stdout",
     "output_type": "stream",
     "text": [
      "Question 0: What were the primary causes of the American Revolution?\n",
      "--------------------------------------------------\n",
      "Question 1: How did the Industrial Revolution impact the daily lives of people in the 18th and 19th centuries?\n",
      "--------------------------------------------------\n",
      "Question 2: What were the major consequences of the Treaty of Versailles after World War I?\n",
      "--------------------------------------------------\n"
     ]
    }
   ],
   "source": [
    "grade = \"8th\"\n",
    "subject = \"history\"\n",
    "max_questions = 3\n",
    "thread = {\"configurable\": {\"thread_id\": \"1\"}}\n",
    "\n",
    "for event in graph.stream({\"grade\":grade,\"subject\":subject,\"max_questions\":max_questions}, thread, stream_mode=\"values\"):\n",
    "    # Review\n",
    "    questions = event.get('questions', '')\n",
    "    if questions:\n",
    "        for idx,question in enumerate(questions):\n",
    "            print(f\"Question {idx}: {question.question}\")\n",
    "            print(\"-\" * 50)  "
   ]
  },
  {
   "cell_type": "code",
   "execution_count": 5,
   "metadata": {},
   "outputs": [
    {
     "data": {
      "text/plain": [
       "('feedback',)"
      ]
     },
     "execution_count": 5,
     "metadata": {},
     "output_type": "execute_result"
    }
   ],
   "source": [
    "state = graph.get_state(thread)\n",
    "state.next"
   ]
  },
  {
   "cell_type": "code",
   "execution_count": 6,
   "metadata": {},
   "outputs": [
    {
     "data": {
      "text/plain": [
       "{'configurable': {'thread_id': '1',\n",
       "  'checkpoint_ns': '',\n",
       "  'checkpoint_id': '1efda76f-219f-68c3-8002-1ddc9f2a7d0f'}}"
      ]
     },
     "execution_count": 6,
     "metadata": {},
     "output_type": "execute_result"
    }
   ],
   "source": [
    "graph.update_state(thread, {\"human_feedback\": \n",
    "                            \"Add one question related to India and rest for world\"}, as_node=\"feedback\")"
   ]
  },
  {
   "cell_type": "code",
   "execution_count": 7,
   "metadata": {},
   "outputs": [
    {
     "name": "stdout",
     "output_type": "stream",
     "text": [
      "Question0: What were the primary causes of the American Revolution?\n",
      "--------------------------------------------------\n",
      "Question1: How did the Industrial Revolution impact the daily lives of people in the 18th and 19th centuries?\n",
      "--------------------------------------------------\n",
      "Question2: What were the major consequences of the Treaty of Versailles after World War I?\n",
      "--------------------------------------------------\n",
      "Question0: What were the major factors that led to the Indian independence movement?\n",
      "--------------------------------------------------\n",
      "Question1: How did the ancient civilizations of Egypt and Mesopotamia contribute to the development of modern society?\n",
      "--------------------------------------------------\n",
      "Question2: What were the primary causes and consequences of World War II?\n",
      "--------------------------------------------------\n"
     ]
    }
   ],
   "source": [
    "for event in graph.stream({\"grade\":grade,\"subject\":subject,\"max_questions\":max_questions}, thread, stream_mode=\"values\"):\n",
    "    # Review\n",
    "    questions = event.get('questions', '')\n",
    "    if questions:\n",
    "        for idx,question in enumerate(questions):\n",
    "            print(f\"Question{idx}: {question.question}\")\n",
    "            print(\"-\" * 50)  "
   ]
  },
  {
   "cell_type": "code",
   "execution_count": 8,
   "metadata": {},
   "outputs": [
    {
     "data": {
      "text/plain": [
       "{'configurable': {'thread_id': '1',\n",
       "  'checkpoint_ns': '',\n",
       "  'checkpoint_id': '1efda76f-7435-6e14-8006-c026d1615290'}}"
      ]
     },
     "execution_count": 8,
     "metadata": {},
     "output_type": "execute_result"
    }
   ],
   "source": [
    "further_feedack = None\n",
    "graph.update_state(thread, {\"human_feedback\": \n",
    "                            further_feedack}, as_node=\"feedback\")"
   ]
  },
  {
   "cell_type": "code",
   "execution_count": 9,
   "metadata": {},
   "outputs": [],
   "source": [
    "for event in graph.stream(None, thread, stream_mode=\"updates\"):\n",
    "    print(\"--Node--\")\n",
    "    node_name = next(iter(event.keys()))\n",
    "    print(node_name)"
   ]
  },
  {
   "cell_type": "code",
   "execution_count": 10,
   "metadata": {},
   "outputs": [
    {
     "data": {
      "text/plain": [
       "()"
      ]
     },
     "execution_count": 10,
     "metadata": {},
     "output_type": "execute_result"
    }
   ],
   "source": [
    "final_state = graph.get_state(thread)\n",
    "final_state.next"
   ]
  },
  {
   "cell_type": "code",
   "execution_count": 11,
   "metadata": {},
   "outputs": [],
   "source": [
    "import operator\n",
    "from typing import  Annotated\n",
    "\n",
    "class AnswerState(TypedDict):\n",
    "    context: Annotated[list, operator.add]\n",
    "    question: Question\n",
    "    sections: list"
   ]
  },
  {
   "cell_type": "code",
   "execution_count": 12,
   "metadata": {},
   "outputs": [],
   "source": [
    "# Web search tool\n",
    "from langchain_community.tools.tavily_search import TavilySearchResults\n",
    "tavily_search = TavilySearchResults(max_results=2)\n",
    "# Wikipedia search tool\n",
    "from langchain_community.document_loaders import WikipediaLoader"
   ]
  },
  {
   "cell_type": "code",
   "execution_count": 13,
   "metadata": {},
   "outputs": [],
   "source": [
    "from langchain_core.messages import get_buffer_string\n",
    "\n",
    "def search_web(state: AnswerState):\n",
    "    \n",
    "    \"\"\" Retrieve docs from web search \"\"\"\n",
    "    question = state[\"question\"]\n",
    "    # Search\n",
    "    search_query = question.question\n",
    "    search_docs = tavily_search.invoke(search_query)\n",
    "\n",
    "     # Format\n",
    "    formatted_search_docs = \"\\n\\n---\\n\\n\".join(\n",
    "        [\n",
    "            f'<Document href=\"{doc[\"url\"]}\"/>\\n{doc[\"content\"]}\\n</Document>'\n",
    "            for doc in search_docs\n",
    "        ]\n",
    "    )\n",
    "\n",
    "    return {\"context\": [formatted_search_docs]} \n",
    "\n",
    "def search_wikipedia(state: AnswerState):\n",
    "    \n",
    "    \"\"\" Retrieve docs from wikipedia \"\"\"\n",
    "    \n",
    "    question = state[\"question\"]\n",
    "    # Search\n",
    "    search_query = question.question\n",
    "    search_docs = WikipediaLoader(query=search_query, \n",
    "                                  load_max_docs=2).load()\n",
    "\n",
    "     # Format\n",
    "    formatted_search_docs = \"\\n\\n---\\n\\n\".join(\n",
    "        [\n",
    "            f'<Document source=\"{doc.metadata[\"source\"]}\" page=\"{doc.metadata.get(\"page\", \"\")}\"/>\\n{doc.page_content}\\n</Document>'\n",
    "            for doc in search_docs\n",
    "        ]\n",
    "    )\n",
    "\n",
    "    return {\"context\": [formatted_search_docs]} "
   ]
  },
  {
   "cell_type": "code",
   "execution_count": 14,
   "metadata": {},
   "outputs": [],
   "source": [
    "section_writer_instructions = ''' You are a student tasked with writing a detailed answer for the question:{question}\n",
    "Write the answer in markdown format using \n",
    "# for headings\n",
    "## for subheadings '''\n",
    "def write_section(state: AnswerState):\n",
    "\n",
    "    \"\"\" Node to answer a question \"\"\"\n",
    "\n",
    "    # Get state\n",
    "    context = state[\"context\"]\n",
    "    question = state[\"question\"]\n",
    "   \n",
    "    # Write section using either the gathered source docs from interview (context) or the interview itself (interview)\n",
    "    system_message = section_writer_instructions.format(question=question.question)\n",
    "    section = llm.invoke([SystemMessage(content=system_message)]+[HumanMessage(content=f\"Use this source to write your section: {context}\")]) \n",
    "                \n",
    "    # Append it to state\n",
    "    return {\"sections\": [section.content]}"
   ]
  },
  {
   "cell_type": "code",
   "execution_count": 15,
   "metadata": {},
   "outputs": [
    {
     "data": {
      "image/jpeg": "[encoded data removed]",
      "text/plain": [
       "<IPython.core.display.Image object>"
      ]
     },
     "metadata": {},
     "output_type": "display_data"
    }
   ],
   "source": [
    "answer_builder = StateGraph(AnswerState)\n",
    "answer_builder.add_node(\"search_web\", search_web)\n",
    "answer_builder.add_node(\"search_wikipedia\", search_wikipedia)\n",
    "answer_builder.add_node(\"write_section\", write_section)\n",
    "\n",
    "answer_builder.add_edge(START, \"search_web\")\n",
    "answer_builder.add_edge(START, \"search_wikipedia\")\n",
    "answer_builder.add_edge(\"search_web\", \"write_section\")\n",
    "answer_builder.add_edge(\"search_wikipedia\", \"write_section\")\n",
    "answer_builder.add_edge(\"write_section\", END)\n",
    "\n",
    "memory = MemorySaver()\n",
    "answer_graph = answer_builder.compile(checkpointer=memory).with_config(run_name=\"Get answers\")\n",
    "\n",
    "# View\n",
    "display(Image(answer_graph.get_graph().draw_mermaid_png()))"
   ]
  },
  {
   "cell_type": "code",
   "execution_count": 16,
   "metadata": {},
   "outputs": [
    {
     "data": {
      "text/plain": [
       "Question(question='What were the major factors that led to the Indian independence movement?')"
      ]
     },
     "execution_count": 16,
     "metadata": {},
     "output_type": "execute_result"
    }
   ],
   "source": [
    "questions = final_state.values.get('questions')\n",
    "questions[0]"
   ]
  },
  {
   "cell_type": "code",
   "execution_count": 17,
   "metadata": {},
   "outputs": [
    {
     "data": {
      "text/markdown": [
       "# Introduction to the Indian Independence Movement\n",
       "The Indian independence movement was a series of historic events in South Asia with the ultimate aim of ending British colonial rule. It lasted until 1947, when the Indian Independence Act 1947 was passed.\n",
       "\n",
       "## Background of British Colonialism in India\n",
       "The first European to reach India via the Atlantic Ocean was the Portuguese explorer Vasco da Gama, who reached Calicut in 1498 in search of spice. Just over a century later, the Dutch and English established trading outposts on the Indian subcontinent, with the first English trading post set up at Surat in 1613. Over the next two centuries, the British defeated the Portuguese and Dutch but remained in conflict with the French. The decline of the Mughal Empire in the first half of the eighteenth century allowed the British to establish a foothold in Indian politics.\n",
       "\n",
       "## Early Independence Movements\n",
       "Maveeran Alagumuthu Kone was an early revolutionary against the British presence in Tamil Nadu. He became a military leader in the town of Ettayapuram and was defeated in battle against the British and Maruthanayagam's forces. He was executed in 1757. Puli Thevar opposed the Nawab of Arcot, who was supported by the British. Maruthanayagam Pillai was another early revolutionary who fought against the British.\n",
       "\n",
       "## The Rise of Nationalism and the Indian National Congress\n",
       "The first nationalistic movement for Indian independence emerged in the Province of Bengal. It later took root in the newly formed Indian National Congress with prominent moderate leaders seeking the right to appear for Indian Civil Service examinations in British India, as well as more economic rights for natives. The first half of the 20th century saw a more radical approach towards self-rule.\n",
       "\n",
       "## Major Factors Leading to the Indian Independence Movement\n",
       "Several factors contributed to the Indian independence movement, including:\n",
       "* The growth of Muslim separatism from the late 19th century\n",
       "* The rise of communal violence from the 1920s to the virulent outbreaks of 1946-1947\n",
       "* The exploitation of India's resources by the British, with India generating large amounts of wealth for England\n",
       "* The introduction of the Rowlatt Act, which permitted indefinite detention and sparked protests across India\n",
       "* The Jallianwala Bagh massacre, which violently suppressed protests in the Punjab Province\n",
       "\n",
       "## Key Leaders and Movements\n",
       "Mahatma Gandhi played a significant role in the Indian independence movement, leading the Salt Satyagraha and promoting non-violence and civil disobedience. Other key leaders included Jawaharlal Nehru, Vallabhbhai Patel, Abdul Ghaffar Khan, and Maulana Azad. The Revolutionary movement for Indian Independence, comprising violent underground revolutionary factions, also contributed to the movement.\n",
       "\n",
       "## Regional Movements\n",
       "Regional movements, such as the Anushilan Samiti in Bengal and the Communist Consolidation in Andhra Pradesh, also played a significant role in the Indian independence movement. The Andaman Island was also a hub for revolutionary activities, with the formation of the Communist Consolidation organization in the Cellular Jail.\n",
       "\n",
       "## Conclusion\n",
       "The Indian independence movement was a complex and multifaceted phenomenon, driven by a range of factors and led by a diverse group of individuals and organizations. The movement ultimately culminated in the Indian Independence Act 1947, which ended Crown suzerainty and partitioned British India into the Dominion of India and the Dominion of Pakistan."
      ],
      "text/plain": [
       "<IPython.core.display.Markdown object>"
      ]
     },
     "execution_count": 17,
     "metadata": {},
     "output_type": "execute_result"
    }
   ],
   "source": [
    "from IPython.display import Markdown\n",
    "thread = {\"configurable\": {\"thread_id\": \"1\"}}\n",
    "interview = answer_graph.invoke({\"question\":questions[0]}, thread)\n",
    "Markdown(interview['sections'][0])"
   ]
  },
  {
   "cell_type": "code",
   "execution_count": null,
   "metadata": {},
   "outputs": [],
   "source": []
  }
 ],
 "metadata": {
  "kernelspec": {
   "display_name": "Python 3",
   "language": "python",
   "name": "python3"
  },
  "language_info": {
   "codemirror_mode": {
    "name": "ipython",
    "version": 3
   },
   "file_extension": ".py",
   "mimetype": "text/x-python",
   "name": "python",
   "nbconvert_exporter": "python",
   "pygments_lexer": "ipython3",
   "version": "3.11.2"
  }
 },
 "nbformat": 4,
 "nbformat_minor": 2
}
