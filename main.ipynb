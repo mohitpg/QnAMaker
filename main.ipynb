{
 "cells": [
  {
   "cell_type": "code",
   "execution_count": 1,
   "metadata": {},
   "outputs": [],
   "source": [
    "from langchain_groq import ChatGroq\n",
    "import os \n",
    "from dotenv import load_dotenv\n",
    "\n",
    "load_dotenv()\n",
    "llm = ChatGroq(\n",
    "    temperature=0,\n",
    "    groq_api_key = os.environ['GROQ_KEY'],\n",
    "    model_name=\"llama-3.3-70b-versatile\"\n",
    ")\n",
    "\n",
    "# result = llm.invoke(\"What is Langgraph?\")\n",
    "# print(result.content)"
   ]
  },
  {
   "cell_type": "code",
   "execution_count": 9,
   "metadata": {},
   "outputs": [],
   "source": [
    "from pydantic import BaseModel, Field\n",
    "from typing import List\n",
    "from typing_extensions import TypedDict\n",
    "\n",
    "class Examiner(BaseModel):\n",
    "    name: str = Field(\n",
    "        description=\"Name of the examiner.\"\n",
    "    )\n",
    "    subject: str = Field(\n",
    "        description=\"Subject that the examiner teaches.\",\n",
    "    )\n",
    "    # description: str = Field(\n",
    "    #     description=\"Description of the examiner focus, concerns, and motives.\",\n",
    "    # )\n",
    "    @property\n",
    "    def persona(self) -> str:\n",
    "        return f\"Name: {self.name}\\nSubject: {self.subject}\\n\"\n",
    "\n",
    "class Perspectives(BaseModel):\n",
    "    examiners: List[Examiner] = Field(\n",
    "        description=\"Comprehensive list of examiners along with their subjects.\",\n",
    "    )\n",
    "\n",
    "class GenerateExaminersState(TypedDict):\n",
    "    grade: str # Grade that examiner teaches\n",
    "    max_examiners: int # Number of examiners\n",
    "    human_feedback: str # Human feedback\n",
    "    examiners: List[Examiner] # Analyst asking questions"
   ]
  },
  {
   "cell_type": "code",
   "execution_count": 10,
   "metadata": {},
   "outputs": [
    {
     "data": {
      "image/jpeg": "[encoded data removed]",
      "text/plain": [
       "<IPython.core.display.Image object>"
      ]
     },
     "metadata": {},
     "output_type": "display_data"
    }
   ],
   "source": [
    "from IPython.display import Image, display\n",
    "from langgraph.graph import START, END, StateGraph\n",
    "from langgraph.checkpoint.memory import MemorySaver\n",
    "from langchain_core.messages import AIMessage, HumanMessage, SystemMessage\n",
    "\n",
    "examiner_instructions=\"\"\"You are tasked with creating a set of AI examiner personas. Follow these instructions carefully:\n",
    "\n",
    "1. First, get the grade that the examiner teaches:\n",
    "{grade}\n",
    "        \n",
    "2. Examine any feedback given to guide the creation of examiners: \n",
    "        \n",
    "{human_feedback}\n",
    "    \n",
    "3. Determine the subjects that the examiner teaches based on the subjects appropriate for the grade or based on feedback.\n",
    "                    \n",
    "4. Pick the top {max_examiners} themes.\n",
    "\n",
    "5. Assign one examiner to each theme.\"\"\"\n",
    "\n",
    "def create_examiners(state: GenerateExaminersState):\n",
    "    \n",
    "    \n",
    "    grade=state['grade']\n",
    "    max_examiners=state['max_examiners']\n",
    "    human_feedback=state.get('human_feedback', '')\n",
    "        \n",
    "    # Enforce structured output\n",
    "    structured_llm = llm.with_structured_output(Perspectives)\n",
    "\n",
    "    # System message\n",
    "    system_message = examiner_instructions.format(grade=grade,\n",
    "                                                  human_feedback=human_feedback, \n",
    "                                                  max_examiners=max_examiners)\n",
    "\n",
    "    # Generate question \n",
    "    examiners = structured_llm.invoke([SystemMessage(content=system_message)]+[HumanMessage(content=\"Generate the set of examiners.\")])\n",
    "    \n",
    "    # Write the list of analysis to state\n",
    "    return {\"examiners\": examiners.examiners}\n",
    "\n",
    "def feedback(state: GenerateExaminersState):\n",
    "    \"\"\" No-op node that should be interrupted on \"\"\"\n",
    "    pass\n",
    "\n",
    "def should_continue(state: GenerateExaminersState):\n",
    "    \"\"\" Return the next node to execute \"\"\"\n",
    "\n",
    "    # Check if human feedback\n",
    "    human_feedback=state.get('human_feedback', None)\n",
    "    if human_feedback:\n",
    "        return \"create_examiners\"\n",
    "    \n",
    "    # Otherwise end\n",
    "    return END\n",
    "\n",
    "# Add nodes and edges \n",
    "builder = StateGraph(GenerateExaminersState)\n",
    "builder.add_node(\"create_examiners\", create_examiners)\n",
    "builder.add_node(\"feedback\", feedback)\n",
    "builder.add_edge(START, \"create_examiners\")\n",
    "builder.add_edge(\"create_examiners\", \"feedback\")\n",
    "builder.add_conditional_edges(\"feedback\", should_continue, [\"create_examiners\", END])\n",
    "\n",
    "# Compile\n",
    "memory = MemorySaver()\n",
    "graph = builder.compile(interrupt_before=['feedback'], checkpointer=memory)\n",
    "\n",
    "# View\n",
    "display(Image(graph.get_graph(xray=1).draw_mermaid_png()))"
   ]
  },
  {
   "cell_type": "code",
   "execution_count": 11,
   "metadata": {},
   "outputs": [
    {
     "name": "stdout",
     "output_type": "stream",
     "text": [
      "Name: Ms. Johnson\n",
      "Role: Math\n",
      "--------------------------------------------------\n",
      "Name: Mr. Thompson\n",
      "Role: Science\n",
      "--------------------------------------------------\n",
      "Name: Ms. Rodriguez\n",
      "Role: English\n",
      "--------------------------------------------------\n",
      "Name: Mr. Lee\n",
      "Role: History\n",
      "--------------------------------------------------\n"
     ]
    }
   ],
   "source": [
    "grade = \"8th\"\n",
    "max_examiners = 4\n",
    "thread = {\"configurable\": {\"thread_id\": \"1\"}}\n",
    "\n",
    "for event in graph.stream({\"grade\":grade,\"max_examiners\":max_examiners}, thread, stream_mode=\"values\"):\n",
    "    # Review\n",
    "    examiners = event.get('examiners', '')\n",
    "    if examiners:\n",
    "        for examiner in examiners:\n",
    "            print(f\"Name: {examiner.name}\")\n",
    "            print(f\"Role: {examiner.subject}\")\n",
    "            print(\"-\" * 50)  "
   ]
  }
 ],
 "metadata": {
  "kernelspec": {
   "display_name": "Python 3",
   "language": "python",
   "name": "python3"
  },
  "language_info": {
   "codemirror_mode": {
    "name": "ipython",
    "version": 3
   },
   "file_extension": ".py",
   "mimetype": "text/x-python",
   "name": "python",
   "nbconvert_exporter": "python",
   "pygments_lexer": "ipython3",
   "version": "3.11.2"
  }
 },
 "nbformat": 4,
 "nbformat_minor": 2
}
