{
 "cells": [
  {
   "cell_type": "code",
   "execution_count": 1,
   "metadata": {},
   "outputs": [
    {
     "name": "stdout",
     "output_type": "stream",
     "text": [
      "Groq is a technology company that specializes in the development of artificial intelligence (AI) and machine learning (ML) hardware and software solutions. The company was founded in 2016 by Jonathan Ross and a team of experienced engineers and researchers from Google, Tesla, and other leading technology companies.\n",
      "\n",
      "Groq's primary focus is on creating high-performance, low-power AI computing platforms that can be used for a wide range of applications, including natural language processing, computer vision, and autonomous vehicles. The company's products include:\n",
      "\n",
      "1. Tensor Streaming Processor (TSP): A custom-designed AI accelerator chip that provides high-performance processing for ML workloads.\n",
      "2. GroqCard: A PCIe-based accelerator card that integrates the TSP chip and provides a scalable, high-performance platform for AI computing.\n",
      "3. GroqWare: A software development kit (SDK) that provides a set of tools and libraries for developing and optimizing AI applications on Groq's hardware platforms.\n",
      "\n",
      "Groq's technology is designed to provide several key benefits, including:\n",
      "\n",
      "* High performance: Groq's TSP chip is designed to provide high-performance processing for ML workloads, with peak performance of up to 400 petaflops.\n",
      "* Low power consumption: Groq's platforms are designed to provide high performance while minimizing power consumption, making them suitable for use in data centers, edge devices, and other applications where power efficiency is important.\n",
      "* Scalability: Groq's platforms are designed to be highly scalable, allowing users to easily add or remove processing units as needed to support changing workloads.\n",
      "\n",
      "Groq's products and technology have been adopted by a number of leading companies and organizations, including Google, Facebook, and the US Department of Energy. The company has also received significant funding from investors, including a $300 million Series B funding round in 2020.\n"
     ]
    }
   ],
   "source": [
    "from langchain_groq import ChatGroq\n",
    "\n",
    "llm = ChatGroq(\n",
    "    temperature=0,\n",
    "    groq_api_key = \"\",\n",
    "    model_name=\"llama-3.3-70b-versatile\"\n",
    ")\n",
    "\n",
    "result = llm.invoke(\"What is Groq?\")\n",
    "print(result.content)"
   ]
  }
 ],
 "metadata": {
  "kernelspec": {
   "display_name": "Python 3",
   "language": "python",
   "name": "python3"
  },
  "language_info": {
   "codemirror_mode": {
    "name": "ipython",
    "version": 3
   },
   "file_extension": ".py",
   "mimetype": "text/x-python",
   "name": "python",
   "nbconvert_exporter": "python",
   "pygments_lexer": "ipython3",
   "version": "3.11.2"
  }
 },
 "nbformat": 4,
 "nbformat_minor": 2
}
