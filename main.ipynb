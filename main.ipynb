{
 "cells": [
  {
   "cell_type": "code",
   "execution_count": 1,
   "metadata": {},
   "outputs": [],
   "source": [
    "from langchain_groq import ChatGroq\n",
    "import os \n",
    "from dotenv import load_dotenv\n",
    "\n",
    "load_dotenv()\n",
    "llm = ChatGroq(\n",
    "    temperature=0,\n",
    "    groq_api_key = os.environ['GROQ_KEY'],\n",
    "    model_name=\"llama-3.3-70b-versatile\"\n",
    ")\n",
    "\n",
    "# result = llm.invoke(\"What is Langgraph?\")\n",
    "# print(result.content)\n",
    "os.environ[\"LANGCHAIN_TRACING_V2\"] = \"true\"\n",
    "os.environ[\"LANGCHAIN_PROJECT\"] = \"langchain-academy\""
   ]
  },
  {
   "cell_type": "code",
   "execution_count": 2,
   "metadata": {},
   "outputs": [],
   "source": [
    "from pydantic import BaseModel, Field\n",
    "from typing import List\n",
    "from typing_extensions import TypedDict\n",
    "\n",
    "class Question(BaseModel):\n",
    "    question: str = Field(\n",
    "        question=\"The question asked by the examiner\",\n",
    "    )\n",
    "    @property\n",
    "    def qn(self) -> str:\n",
    "        return f\"Question: {self.question}\\n\"\n",
    "\n",
    "class Perspectives(BaseModel):\n",
    "    questions: List[Question] = Field(\n",
    "        description=\"List of questions asked by the examiner\",\n",
    "    )\n",
    "\n",
    "class GenerateQuestionsState(TypedDict):\n",
    "    grade: str # Grade that examiner teaches\n",
    "    subject: str # Subject that examiner teaches\n",
    "    max_questions: int # Number of questions\n",
    "    human_feedback: str # Human feedback\n",
    "    questions: List[Question] # Questions asked by examiner"
   ]
  },
  {
   "cell_type": "code",
   "execution_count": 3,
   "metadata": {},
   "outputs": [
    {
     "data": {
      "image/jpeg": "[encoded data removed]",
      "text/plain": [
       "<IPython.core.display.Image object>"
      ]
     },
     "metadata": {},
     "output_type": "display_data"
    }
   ],
   "source": [
    "from IPython.display import Image, display\n",
    "from langgraph.graph import START, END, StateGraph\n",
    "from langgraph.checkpoint.memory import MemorySaver\n",
    "from langchain_core.messages import AIMessage, HumanMessage, SystemMessage\n",
    "\n",
    "examiner_instructions=\"\"\"You are an examiner tasked with creating questions that will have detailed answers. Follow these instructions carefully:\n",
    "\n",
    "1. First, get the grade that the examiner teaches:\n",
    "{grade}\n",
    "        \n",
    "2. Then, get the subject that the examiner teaches:\n",
    "{subject}\n",
    "\n",
    "3. Examine any feedback given to guide the creation of questions: \n",
    "        \n",
    "{human_feedback}\n",
    "    \n",
    "4. Determine the questions appropriate for the grade and subject and consider human feedback if any.\n",
    "                    \n",
    "5. Return the top {max_questions} questions.\"\"\"\n",
    "\n",
    "def create_questions(state: GenerateQuestionsState):\n",
    "    \n",
    "    grade=state['grade']\n",
    "    subject=state['subject']\n",
    "    max_questions=state['max_questions']\n",
    "    human_feedback=state.get('human_feedback', '')\n",
    "        \n",
    "    # Enforce structured output\n",
    "    structured_llm = llm.with_structured_output(Perspectives)\n",
    "\n",
    "    # System message\n",
    "    system_message = examiner_instructions.format(grade=grade,\n",
    "                                                  subject=subject,\n",
    "                                                  human_feedback=human_feedback, \n",
    "                                                  max_questions=max_questions)\n",
    "\n",
    "    # Generate question \n",
    "    questions = structured_llm.invoke([SystemMessage(content=system_message)]+[HumanMessage(content=\"Generate the set of questions.\")])\n",
    "    \n",
    "    # Write the list of questionss to state\n",
    "    return {\"questions\": questions.questions}\n",
    "\n",
    "def feedback(state: GenerateQuestionsState):\n",
    "    \"\"\" No-op node that should be interrupted on \"\"\"\n",
    "    pass\n",
    "\n",
    "def should_continue(state: GenerateQuestionsState):\n",
    "    \"\"\" Return the next node to execute \"\"\"\n",
    "\n",
    "    # Check if human feedback\n",
    "    human_feedback=state.get('human_feedback', None)\n",
    "    if human_feedback:\n",
    "        return \"create_questions\"\n",
    "    \n",
    "    # Otherwise end\n",
    "    return END\n",
    "\n",
    "# Add nodes and edges \n",
    "builder = StateGraph(GenerateQuestionsState)\n",
    "builder.add_node(\"create_questions\", create_questions)\n",
    "builder.add_node(\"feedback\", feedback)\n",
    "builder.add_edge(START, \"create_questions\")\n",
    "builder.add_edge(\"create_questions\", \"feedback\")\n",
    "builder.add_conditional_edges(\"feedback\", should_continue, [\"create_questions\", END])\n",
    "\n",
    "# Compile\n",
    "memory = MemorySaver()\n",
    "graph = builder.compile(interrupt_before=['feedback'], checkpointer=memory)\n",
    "\n",
    "# View\n",
    "display(Image(graph.get_graph(xray=1).draw_mermaid_png()))"
   ]
  },
  {
   "cell_type": "code",
   "execution_count": 4,
   "metadata": {},
   "outputs": [
    {
     "name": "stdout",
     "output_type": "stream",
     "text": [
      "Question 0: What were the primary causes of the American Revolution?\n",
      "--------------------------------------------------\n",
      "Question 1: How did the Industrial Revolution impact the daily lives of people in the 18th and 19th centuries?\n",
      "--------------------------------------------------\n",
      "Question 2: What were the major consequences of the Treaty of Versailles after World War I?\n",
      "--------------------------------------------------\n"
     ]
    }
   ],
   "source": [
    "grade = \"8th\"\n",
    "subject = \"history\"\n",
    "max_questions = 3\n",
    "thread = {\"configurable\": {\"thread_id\": \"1\"}}\n",
    "\n",
    "for event in graph.stream({\"grade\":grade,\"subject\":subject,\"max_questions\":max_questions}, thread, stream_mode=\"values\"):\n",
    "    # Review\n",
    "    questions = event.get('questions', '')\n",
    "    if questions:\n",
    "        for idx,question in enumerate(questions):\n",
    "            print(f\"Question {idx}: {question.question}\")\n",
    "            print(\"-\" * 50)  "
   ]
  },
  {
   "cell_type": "code",
   "execution_count": 5,
   "metadata": {},
   "outputs": [
    {
     "data": {
      "text/plain": [
       "('feedback',)"
      ]
     },
     "execution_count": 5,
     "metadata": {},
     "output_type": "execute_result"
    }
   ],
   "source": [
    "state = graph.get_state(thread)\n",
    "state.next"
   ]
  },
  {
   "cell_type": "code",
   "execution_count": 6,
   "metadata": {},
   "outputs": [
    {
     "data": {
      "text/plain": [
       "{'configurable': {'thread_id': '1',\n",
       "  'checkpoint_ns': '',\n",
       "  'checkpoint_id': '1efdadf9-c934-6adb-8002-2d753cc91b8e'}}"
      ]
     },
     "execution_count": 6,
     "metadata": {},
     "output_type": "execute_result"
    }
   ],
   "source": [
    "graph.update_state(thread, {\"human_feedback\": \n",
    "                            \"Add one question related to India and rest for world\"}, as_node=\"feedback\")"
   ]
  },
  {
   "cell_type": "code",
   "execution_count": 7,
   "metadata": {},
   "outputs": [
    {
     "name": "stdout",
     "output_type": "stream",
     "text": [
      "Question0: What were the primary causes of the American Revolution?\n",
      "--------------------------------------------------\n",
      "Question1: How did the Industrial Revolution impact the daily lives of people in the 18th and 19th centuries?\n",
      "--------------------------------------------------\n",
      "Question2: What were the major consequences of the Treaty of Versailles after World War I?\n",
      "--------------------------------------------------\n",
      "Question0: What were the major factors that led to the Indian independence movement?\n",
      "--------------------------------------------------\n",
      "Question1: How did the ancient civilizations of Egypt and Mesopotamia contribute to the development of modern society?\n",
      "--------------------------------------------------\n",
      "Question2: What were the main causes and consequences of World War II?\n",
      "--------------------------------------------------\n"
     ]
    }
   ],
   "source": [
    "for event in graph.stream({\"grade\":grade,\"subject\":subject,\"max_questions\":max_questions}, thread, stream_mode=\"values\"):\n",
    "    # Review\n",
    "    questions = event.get('questions', '')\n",
    "    if questions:\n",
    "        for idx,question in enumerate(questions):\n",
    "            print(f\"Question{idx}: {question.question}\")\n",
    "            print(\"-\" * 50)  "
   ]
  },
  {
   "cell_type": "code",
   "execution_count": 8,
   "metadata": {},
   "outputs": [
    {
     "data": {
      "text/plain": [
       "{'configurable': {'thread_id': '1',\n",
       "  'checkpoint_ns': '',\n",
       "  'checkpoint_id': '1efdadf9-d1eb-6f24-8006-2d9604d2d07b'}}"
      ]
     },
     "execution_count": 8,
     "metadata": {},
     "output_type": "execute_result"
    }
   ],
   "source": [
    "further_feedack = None\n",
    "graph.update_state(thread, {\"human_feedback\": \n",
    "                            further_feedack}, as_node=\"feedback\")"
   ]
  },
  {
   "cell_type": "code",
   "execution_count": 9,
   "metadata": {},
   "outputs": [],
   "source": [
    "for event in graph.stream(None, thread, stream_mode=\"updates\"):\n",
    "    print(\"--Node--\")\n",
    "    node_name = next(iter(event.keys()))\n",
    "    print(node_name)"
   ]
  },
  {
   "cell_type": "code",
   "execution_count": 10,
   "metadata": {},
   "outputs": [
    {
     "data": {
      "text/plain": [
       "()"
      ]
     },
     "execution_count": 10,
     "metadata": {},
     "output_type": "execute_result"
    }
   ],
   "source": [
    "final_state = graph.get_state(thread)\n",
    "final_state.next"
   ]
  },
  {
   "cell_type": "code",
   "execution_count": 11,
   "metadata": {},
   "outputs": [],
   "source": [
    "import operator\n",
    "from typing import  Annotated\n",
    "\n",
    "class AnswerState(TypedDict):\n",
    "    context: Annotated[list, operator.add]\n",
    "    question: Question\n",
    "    sections: list"
   ]
  },
  {
   "cell_type": "code",
   "execution_count": 12,
   "metadata": {},
   "outputs": [],
   "source": [
    "# Web search tool\n",
    "from langchain_community.tools.tavily_search import TavilySearchResults\n",
    "tavily_search = TavilySearchResults(max_results=2)\n",
    "# Wikipedia search tool\n",
    "from langchain_community.document_loaders import WikipediaLoader"
   ]
  },
  {
   "cell_type": "code",
   "execution_count": 13,
   "metadata": {},
   "outputs": [],
   "source": [
    "from langchain_core.messages import get_buffer_string\n",
    "\n",
    "def search_web(state: AnswerState):\n",
    "    \n",
    "    \"\"\" Retrieve docs from web search \"\"\"\n",
    "    question = state[\"question\"]\n",
    "    # Search\n",
    "    search_query = question.question\n",
    "    search_docs = tavily_search.invoke(search_query)\n",
    "\n",
    "     # Format\n",
    "    formatted_search_docs = \"\\n\\n---\\n\\n\".join(\n",
    "        [\n",
    "            f'<Document href=\"{doc[\"url\"]}\"/>\\n{doc[\"content\"]}\\n</Document>'\n",
    "            for doc in search_docs\n",
    "        ]\n",
    "    )\n",
    "\n",
    "    return {\"context\": [formatted_search_docs]} \n",
    "\n",
    "def search_wikipedia(state: AnswerState):\n",
    "    \n",
    "    \"\"\" Retrieve docs from wikipedia \"\"\"\n",
    "    \n",
    "    question = state[\"question\"]\n",
    "    # Search\n",
    "    search_query = question.question\n",
    "    search_docs = WikipediaLoader(query=search_query, \n",
    "                                  load_max_docs=2).load()\n",
    "\n",
    "     # Format\n",
    "    formatted_search_docs = \"\\n\\n---\\n\\n\".join(\n",
    "        [\n",
    "            f'<Document source=\"{doc.metadata[\"source\"]}\" page=\"{doc.metadata.get(\"page\", \"\")}\"/>\\n{doc.page_content}\\n</Document>'\n",
    "            for doc in search_docs\n",
    "        ]\n",
    "    )\n",
    "\n",
    "    return {\"context\": [formatted_search_docs]} "
   ]
  },
  {
   "cell_type": "code",
   "execution_count": 14,
   "metadata": {},
   "outputs": [],
   "source": [
    "section_writer_instructions = ''' You are a student tasked with writing a detailed answer for the question:{question}\n",
    "Write the answer in markdown format using \n",
    "# for headings\n",
    "## for subheadings '''\n",
    "def write_section(state: AnswerState):\n",
    "\n",
    "    \"\"\" Node to answer a question \"\"\"\n",
    "\n",
    "    # Get state\n",
    "    context = state[\"context\"]\n",
    "    question = state[\"question\"]\n",
    "   \n",
    "    # Write section using either the gathered source docs from interview (context) or the interview itself (interview)\n",
    "    system_message = section_writer_instructions.format(question=question.question)\n",
    "    section = llm.invoke([SystemMessage(content=system_message)]+[HumanMessage(content=f\"Use this source to write your section: {context}\")]) \n",
    "                \n",
    "    # Append it to state\n",
    "    return {\"sections\": [section.content]}"
   ]
  },
  {
   "cell_type": "code",
   "execution_count": 15,
   "metadata": {},
   "outputs": [
    {
     "data": {
      "image/jpeg": "[encoded data removed]",
      "text/plain": [
       "<IPython.core.display.Image object>"
      ]
     },
     "metadata": {},
     "output_type": "display_data"
    }
   ],
   "source": [
    "answer_builder = StateGraph(AnswerState)\n",
    "answer_builder.add_node(\"search_web\", search_web)\n",
    "answer_builder.add_node(\"search_wikipedia\", search_wikipedia)\n",
    "answer_builder.add_node(\"write_section\", write_section)\n",
    "\n",
    "answer_builder.add_edge(START, \"search_web\")\n",
    "answer_builder.add_edge(START, \"search_wikipedia\")\n",
    "answer_builder.add_edge(\"search_web\", \"write_section\")\n",
    "answer_builder.add_edge(\"search_wikipedia\", \"write_section\")\n",
    "answer_builder.add_edge(\"write_section\", END)\n",
    "\n",
    "memory = MemorySaver()\n",
    "answer_graph = answer_builder.compile(checkpointer=memory).with_config(run_name=\"Get answers\")\n",
    "\n",
    "# View\n",
    "display(Image(answer_graph.get_graph().draw_mermaid_png()))"
   ]
  },
  {
   "cell_type": "code",
   "execution_count": 16,
   "metadata": {},
   "outputs": [
    {
     "data": {
      "text/plain": [
       "Question(question='What were the major factors that led to the Indian independence movement?')"
      ]
     },
     "execution_count": 16,
     "metadata": {},
     "output_type": "execute_result"
    }
   ],
   "source": [
    "questions = final_state.values.get('questions')\n",
    "questions[0]"
   ]
  },
  {
   "cell_type": "code",
   "execution_count": 17,
   "metadata": {},
   "outputs": [
    {
     "data": {
      "text/markdown": [
       "# Introduction to the Indian Independence Movement\n",
       "The Indian independence movement was a series of historic events in South Asia with the ultimate aim of ending British colonial rule. It lasted until 1947, when the Indian Independence Act 1947 was passed. The movement was characterized by various factors, including socio-political, economic, and cultural elements.\n",
       "\n",
       "## Early British Colonialism in India\n",
       "The British established their presence in India in the early 17th century, with the first English trading post set up at Surat in 1613. Over the next two centuries, the British defeated the Portuguese and Dutch but remained in conflict with the French. The decline of the Mughal Empire in the first half of the 18th century allowed the British to establish a foothold in Indian politics.\n",
       "\n",
       "## Factors Leading to the Indian Independence Movement\n",
       "Several factors contributed to the rise of the Indian independence movement. These include:\n",
       "* The introduction of the ryotwari system, which impacted lower-status cultivators by depleting their crops and leaving them impoverished.\n",
       "* The 1882 Madras Forest Act, which restricted the free movement of adivasis in their forest habitats and prevented them from practicing their traditional form of agriculture.\n",
       "* The partition of Bengal in 1905, which led to widespread protests and the formation of revolutionary groups.\n",
       "* The influence of western-educated leaders, such as Lokmanya Tilak and Gopal Krishna Gokhale, who inspired several other freedom activists.\n",
       "* The role of Mahatma Gandhi, who adopted a policy of non-violence and civil disobedience, and his followers, such as Jawaharlal Nehru and Vallabhbhai Patel.\n",
       "\n",
       "## Revolutionary Movements\n",
       "The Indian independence movement also saw the emergence of revolutionary groups, which believed in armed revolution against the British. These groups were mainly concentrated in Bengal, Bombay, Bihar, the United Provinces, and Punjab. Notable revolutionary leaders included Aurobindo Ghosh, Bhupendranath Datta, and Subodh Chandra Mullick, who formed the Jugantar party in 1906.\n",
       "\n",
       "## Regional Movements\n",
       "The Indian independence movement was not limited to a single region. Various regional movements emerged, including:\n",
       "* The Bengal movement, which was led by leaders such as Dhaka district's Benoy Basu, Badal Gupta, and Dinesh Gupta.\n",
       "* The Andhra Pradesh movement, which was led by leaders such as Uyyalawada Narasimha Reddy and Alluri Sitarama Raju.\n",
       "* The Tamil Nadu movement, which was led by leaders such as Maveeran Alagumuthu Kone and Puli Thevar.\n",
       "\n",
       "## Conclusion\n",
       "The Indian independence movement was a complex and multifaceted phenomenon, driven by various factors, including socio-political, economic, and cultural elements. The movement saw the emergence of various regional and revolutionary groups, which ultimately contributed to the end of British colonial rule in India. The Indian Independence Act 1947 marked the beginning of a new era in Indian history, and the country has since become a sovereign nation, with a democratic government and a thriving economy."
      ],
      "text/plain": [
       "<IPython.core.display.Markdown object>"
      ]
     },
     "execution_count": 17,
     "metadata": {},
     "output_type": "execute_result"
    }
   ],
   "source": [
    "from IPython.display import Markdown\n",
    "thread = {\"configurable\": {\"thread_id\": \"1\"}}\n",
    "interview = answer_graph.invoke({\"question\":questions[0]}, thread)\n",
    "Markdown(interview['sections'][0])"
   ]
  },
  {
   "cell_type": "code",
   "execution_count": 18,
   "metadata": {},
   "outputs": [],
   "source": [
    "class FinalGraphState(TypedDict):\n",
    "    grade: str # Grade that examiner teaches\n",
    "    subject: str # Subject that examiner teaches\n",
    "    max_questions: int # Number of questions\n",
    "    human_feedback: str # Human feedback\n",
    "    questions: List[Question] # Questions asked by examiner\n",
    "    sections: Annotated[list, operator.add] # Send() API key\n",
    "    final_document: str # Final report"
   ]
  },
  {
   "cell_type": "code",
   "execution_count": 30,
   "metadata": {},
   "outputs": [],
   "source": [
    "from langgraph.constants import Send\n",
    "\n",
    "def initiate_all_answers(state: FinalGraphState):\n",
    "    \"\"\" This is the \"map\" step where we run each question sub-graph\"\"\"    \n",
    "\n",
    "    # Check if human feedback\n",
    "    human_feedback=state.get('human_feedback')\n",
    "    if human_feedback:\n",
    "        return \"create_questions\"\n",
    "\n",
    "    # Otherwise kick off answering in parallel via Send() API\n",
    "    else:\n",
    "        return [Send(\"get_answers\", {\"question\": question}) for question in state[\"questions\"]]\n",
    "    \n",
    "def final_guide(state: FinalGraphState):\n",
    "    questions = state[\"questions\"]\n",
    "    answers = state[\"sections\"]\n",
    "\n",
    "    formatted_str_answers = \"\\n\\n\".join([f\"Ans\\n{answer}\" for answer in answers])\n",
    "    return {\"final_document\":formatted_str_answers}"
   ]
  },
  {
   "cell_type": "code",
   "execution_count": 31,
   "metadata": {},
   "outputs": [
    {
     "data": {
      "image/jpeg": "[encoded data removed]",
      "text/plain": [
       "<IPython.core.display.Image object>"
      ]
     },
     "metadata": {},
     "output_type": "display_data"
    }
   ],
   "source": [
    "builder = StateGraph(FinalGraphState)\n",
    "builder.add_node(\"create_questions\", create_questions)\n",
    "builder.add_node(\"feedback\", feedback)\n",
    "builder.add_node(\"get_answers\",answer_builder.compile())\n",
    "builder.add_node(\"final_guide\",final_guide)\n",
    "\n",
    "builder.add_edge(START, \"create_questions\")\n",
    "builder.add_edge(\"create_questions\", \"feedback\")\n",
    "builder.add_conditional_edges(\"feedback\", initiate_all_answers, [\"create_questions\", \"get_answers\"])\n",
    "builder.add_edge(\"get_answers\",\"final_guide\")\n",
    "builder.add_edge(\"final_guide\",END)\n",
    "\n",
    "memory = MemorySaver()\n",
    "graph = builder.compile(interrupt_before=['feedback'], checkpointer=memory)\n",
    "display(Image(graph.get_graph(xray=1).draw_mermaid_png()))"
   ]
  },
  {
   "cell_type": "code",
   "execution_count": 32,
   "metadata": {},
   "outputs": [
    {
     "name": "stdout",
     "output_type": "stream",
     "text": [
      "Question 0: What were the primary causes of World War I?\n",
      "--------------------------------------------------\n",
      "Question 1: How did the Industrial Revolution impact the social and economic structures of Europe?\n",
      "--------------------------------------------------\n",
      "Question 2: What were the key factors that led to the rise of the Roman Empire?\n",
      "--------------------------------------------------\n"
     ]
    }
   ],
   "source": [
    "grade = \"9th\"\n",
    "subject = \"history\"\n",
    "max_questions = 3\n",
    "thread = {\"configurable\": {\"thread_id\": \"1\"}}\n",
    "\n",
    "for event in graph.stream({\"grade\":grade,\"subject\":subject,\"max_questions\":max_questions}, thread, stream_mode=\"values\"):\n",
    "    # Review\n",
    "    questions = event.get('questions', '')\n",
    "    if questions:\n",
    "        for idx,question in enumerate(questions):\n",
    "            print(f\"Question {idx}: {question.question}\")\n",
    "            print(\"-\" * 50)  "
   ]
  },
  {
   "cell_type": "code",
   "execution_count": 33,
   "metadata": {},
   "outputs": [
    {
     "data": {
      "text/plain": [
       "{'configurable': {'thread_id': '1',\n",
       "  'checkpoint_ns': '',\n",
       "  'checkpoint_id': '1efdae25-ea90-6586-8002-ff74c0be18d6'}}"
      ]
     },
     "execution_count": 33,
     "metadata": {},
     "output_type": "execute_result"
    }
   ],
   "source": [
    "graph.update_state(thread, {\"human_feedback\": \n",
    "                            \"Add one question related to India and rest for world\"}, as_node=\"feedback\")"
   ]
  },
  {
   "cell_type": "code",
   "execution_count": 34,
   "metadata": {},
   "outputs": [
    {
     "name": "stdout",
     "output_type": "stream",
     "text": [
      "Question0: What were the primary causes of World War I?\n",
      "--------------------------------------------------\n",
      "Question1: How did the Industrial Revolution impact the social and economic structures of Europe?\n",
      "--------------------------------------------------\n",
      "Question2: What were the key factors that led to the rise of the Roman Empire?\n",
      "--------------------------------------------------\n"
     ]
    },
    {
     "name": "stdout",
     "output_type": "stream",
     "text": [
      "Question0: What were the major factors that led to the Indian independence movement?\n",
      "--------------------------------------------------\n",
      "Question1: How did the ancient civilizations of Mesopotamia contribute to the development of modern society?\n",
      "--------------------------------------------------\n",
      "Question2: What were the primary causes and consequences of World War II?\n",
      "--------------------------------------------------\n"
     ]
    }
   ],
   "source": [
    "for event in graph.stream({\"grade\":grade,\"subject\":subject,\"max_questions\":max_questions}, thread, stream_mode=\"values\"):\n",
    "    # Review\n",
    "    questions = event.get('questions', '')\n",
    "    if questions:\n",
    "        for idx,question in enumerate(questions):\n",
    "            print(f\"Question{idx}: {question.question}\")\n",
    "            print(\"-\" * 50)  "
   ]
  },
  {
   "cell_type": "code",
   "execution_count": 35,
   "metadata": {},
   "outputs": [
    {
     "data": {
      "text/plain": [
       "{'configurable': {'thread_id': '1',\n",
       "  'checkpoint_ns': '',\n",
       "  'checkpoint_id': '1efdae25-f1d4-6ac9-8006-53b3ab66c1ba'}}"
      ]
     },
     "execution_count": 35,
     "metadata": {},
     "output_type": "execute_result"
    }
   ],
   "source": [
    "graph.update_state(thread, {\"human_feedback\": \n",
    "                            None}, as_node=\"feedback\")"
   ]
  },
  {
   "cell_type": "code",
   "execution_count": 36,
   "metadata": {},
   "outputs": [
    {
     "name": "stdout",
     "output_type": "stream",
     "text": [
      "--Node--\n",
      "get_answers\n",
      "--Node--\n",
      "get_answers\n",
      "--Node--\n",
      "get_answers\n",
      "--Node--\n",
      "final_guide\n"
     ]
    }
   ],
   "source": [
    "for event in graph.stream(None, thread, stream_mode=\"updates\"):\n",
    "    print(\"--Node--\")\n",
    "    node_name = next(iter(event.keys()))\n",
    "    print(node_name)"
   ]
  },
  {
   "cell_type": "code",
   "execution_count": 40,
   "metadata": {},
   "outputs": [
    {
     "data": {
      "text/markdown": [
       "Ans\n",
       "# Introduction to the Indian Independence Movement\n",
       "The Indian independence movement was a series of historic events in South Asia with the ultimate aim of ending British colonial rule. It lasted until 1947, when the Indian Independence Act 1947 was passed. The movement was characterized by the emergence of various nationalist and revolutionary groups, who employed different strategies, including non-violent civil disobedience and armed rebellion, to achieve their goal of independence.\n",
       "\n",
       "## Early British Colonialism in India\n",
       "The British established their presence in India in the early 17th century, with the first English trading post set up at Surat in 1613. Over the next two centuries, the British defeated the Portuguese and Dutch, and established themselves as a major player in Indian affairs. The decline of the Mughal Empire in the first half of the 18th century allowed the British to gain administrative rights over Bengal, Bihar, and Odisha. The British subsequently seized control of regions ruled by the Maratha Empire and the Sikh Empire, after defeating them in a series of wars.\n",
       "\n",
       "## Factors Leading to the Indian Independence Movement\n",
       "Several factors contributed to the emergence of the Indian independence movement. These include:\n",
       "* The introduction of English education in 1835, which exposed Indians to Western ideas of liberty, equality, and democracy.\n",
       "* The partition of Bengal in 1905, which led to widespread protests and the emergence of revolutionary groups.\n",
       "* The Rowlatt Act of 1919, which permitted indefinite detention and sparked protests across India.\n",
       "* The Jallianwala Bagh massacre of 1919, which further galvanized the movement.\n",
       "* The influence of nationalist leaders such as Mahatma Gandhi, Jawaharlal Nehru, and Subhas Chandra Bose.\n",
       "\n",
       "## Key Events and Movements\n",
       "Some key events and movements that played a significant role in the Indian independence movement include:\n",
       "* The Swadeshi Movement, which aimed to promote Indian-made goods and boycott British products.\n",
       "* The formation of the Indian National Congress, which became a major platform for nationalist leaders.\n",
       "* The Non-Cooperation Movement, led by Mahatma Gandhi, which employed non-violent civil disobedience to challenge British rule.\n",
       "* The Quit India Movement, which was launched by Gandhi in 1942 and called for immediate independence.\n",
       "* The Revolutionary Movement, which comprised armed rebellion and terrorist activities against the British.\n",
       "\n",
       "## Regional Movements\n",
       "The Indian independence movement was not limited to a single region, but was a pan-Indian phenomenon. Various regional movements and leaders played a significant role in the struggle for independence. These include:\n",
       "* The Bengal Revolution, which was led by figures such as Aurobindo Ghosh and Subhas Chandra Bose.\n",
       "* The Andhra Pradesh movement, which was led by leaders such as Alluri Sitarama Raju.\n",
       "* The Tamil Nadu movement, which was led by figures such as Maveeran Alagumuthu Kone and Puli Thevar.\n",
       "\n",
       "## Conclusion\n",
       "The Indian independence movement was a complex and multifaceted phenomenon, which was shaped by a variety of factors and events. The movement ultimately achieved its goal of independence in 1947, but not before undergoing significant transformations and challenges. The legacy of the movement continues to shape Indian politics and society to this day.\n",
       "\n",
       "Ans\n",
       "# Introduction to Mesopotamia's Contributions\n",
       "Mesopotamia, often referred to as the cradle of civilization, was home to numerous civilizations that significantly contributed to the development of modern society. The region, which corresponds to modern-day Iraq, Kuwait, and parts of Syria, Turkey, and Iran, was the birthplace of many innovations that are still integral to our daily lives.\n",
       "\n",
       "## Early Developments in Mesopotamia\n",
       "The civilizations of Mesopotamia developed several key aspects of modern life, including:\n",
       "* Writing: Mesopotamians invented cuneiform, one of the earliest forms of writing, which allowed for the recording of laws, business transactions, and literary works.\n",
       "* The Wheel: The invention of the wheel revolutionized transportation, trade, and warfare, and is still a fundamental component of modern technology.\n",
       "* Code of Laws: The Code of Hammurabi, created in Babylon, is one of the earliest surviving codes of law and established the principle of rule of law.\n",
       "* Irrigation: Mesopotamians developed sophisticated irrigation systems, which enabled the cultivation of crops in the fertile plains between the Tigris and Euphrates rivers.\n",
       "* Beer-Brewing: The ancient Mesopotamians are credited with the invention of beer, which was an important part of their culture and economy.\n",
       "\n",
       "## The Rise of Civilization\n",
       "The rise of civilization in Mesopotamia was a gradual process that began with the development of sedentary agriculture. The Natufian culture, which emerged around 12,000 BC, is considered one of the earliest examples of a sedentary society. The Neolithic Revolution, which occurred around 10,000 BC, marked the beginning of intensive agriculture and the development of complex societies. The first cities, such as Uruk and Ur, emerged in Mesopotamia around 4,000 BC and were characterized by dense populations, specialized labor, and complex systems of governance.\n",
       "\n",
       "## The Legacy of Mesopotamia\n",
       "The legacy of Mesopotamia can be seen in the many civilizations that followed, including ancient Egypt, Greece, and Rome. The contributions of Mesopotamia to modern society are numerous and profound, and include:\n",
       "* The development of writing and literature\n",
       "* The creation of complex systems of governance and law\n",
       "* The invention of the wheel and other technologies\n",
       "* The establishment of trade and commerce networks\n",
       "* The development of sophisticated irrigation systems and agricultural practices\n",
       "\n",
       "## Conclusion\n",
       "In conclusion, the ancient civilizations of Mesopotamia made significant contributions to the development of modern society. Their innovations in writing, technology, governance, and agriculture laid the foundation for the rise of complex societies and the development of modern civilization. The legacy of Mesopotamia can be seen in the many civilizations that followed, and their contributions continue to shape our world today.\n",
       "\n",
       "Ans\n",
       "# Introduction to World War II\n",
       "World War II was a global conflict that lasted from 1939 to 1945, involving most of the world's nations, including all of the great powers. The war was fought between two main alliances: the Allies, which consisted of the United States, the United Kingdom, and the Soviet Union, among others, and the Axis powers, which included Germany, Italy, and Japan.\n",
       "\n",
       "## Causes of World War II\n",
       "The causes of World War II are complex and multifaceted. Some of the primary causes include:\n",
       "\n",
       "1. **The Treaty of Versailles**: The treaty that ended World War I imposed harsh penalties on Germany, including significant territorial losses and heavy reparations. This led to widespread resentment and a desire for revenge among the German people.\n",
       "2. **The Rise of Fascism and Nazism**: The rise of fascist and nationalist ideologies in Germany, Italy, and Japan created an environment in which aggressive militarism and expansionism could thrive.\n",
       "3. **The Policy of Appeasement**: The policy of appeasement, pursued by Britain and France, involved giving in to Germany's demands in the hope of avoiding war. However, this only emboldened Hitler and allowed him to pursue further aggression.\n",
       "4. **The Invasion of Poland**: The invasion of Poland by Germany in 1939 marked the beginning of World War II.\n",
       "5. **The Failure of the League of Nations**: The League of Nations, established after World War I to promote international cooperation and prevent future wars, failed to prevent the aggression of Japan, Italy, and Germany.\n",
       "\n",
       "## Course of the War\n",
       "The war began in September 1939, when Germany invaded Poland. This was followed by the invasion of Denmark, Norway, Belgium, the Netherlands, and France. The war expanded to include the Soviet Union, the United States, and Japan, and eventually involved most of the world's nations.\n",
       "\n",
       "## Consequences of World War II\n",
       "The consequences of World War II were far-reaching and profound. Some of the most significant consequences include:\n",
       "\n",
       "1. **The Loss of Life**: An estimated 50-80 million people lost their lives in the war, making it the deadliest conflict in human history.\n",
       "2. **The Destruction of Cities and Infrastructure**: Many cities and towns were destroyed, and infrastructure such as roads, bridges, and buildings were severely damaged.\n",
       "3. **The Establishment of the United Nations**: The war led to the establishment of the United Nations, an international organization dedicated to promoting peace and security.\n",
       "4. **The Rise of the United States and the Soviet Union**: The war marked the emergence of the United States and the Soviet Union as superpowers, setting the stage for the Cold War.\n",
       "5. **The Division of Europe**: The war led to the division of Europe into Eastern and Western blocs, with the Soviet Union dominating the Eastern bloc and the United States and its allies dominating the Western bloc.\n",
       "\n",
       "## The Two Groups: Allies vs Axis Powers\n",
       "The war was fought between two main alliances: the Allies and the Axis powers. The Allies consisted of the United States, the United Kingdom, the Soviet Union, and other nations, while the Axis powers included Germany, Italy, and Japan.\n",
       "\n",
       "## Ultimate Causes of World War II\n",
       "The ultimate causes of World War II are complex and multifaceted. Some of the most significant ultimate causes include:\n",
       "\n",
       "1. **The Legacy of World War I**: The Treaty of Versailles and the aftermath of World War I created an environment in which another war could occur.\n",
       "2. **The Rise of Nationalism and Fascism**: The rise of nationalist and fascist ideologies in Germany, Italy, and Japan created an environment in which aggressive militarism and expansionism could thrive.\n",
       "3. **The Failure of the International System**: The failure of the League of Nations and the international system to prevent aggression and promote cooperation created an environment in which war could occur.\n",
       "\n",
       "In conclusion, World War II was a complex and multifaceted conflict that was caused by a variety of factors, including the legacy of World War I, the rise of nationalism and fascism, and the failure of the international system. The war had far-reaching and profound consequences, including the loss of life, the destruction of cities and infrastructure, and the establishment of the United Nations."
      ],
      "text/plain": [
       "<IPython.core.display.Markdown object>"
      ]
     },
     "execution_count": 40,
     "metadata": {},
     "output_type": "execute_result"
    }
   ],
   "source": [
    "from IPython.display import Markdown\n",
    "final_state = graph.get_state(thread)\n",
    "report = final_state.values.get('final_document')\n",
    "Markdown(report)"
   ]
  }
 ],
 "metadata": {
  "kernelspec": {
   "display_name": "Python 3",
   "language": "python",
   "name": "python3"
  },
  "language_info": {
   "codemirror_mode": {
    "name": "ipython",
    "version": 3
   },
   "file_extension": ".py",
   "mimetype": "text/x-python",
   "name": "python",
   "nbconvert_exporter": "python",
   "pygments_lexer": "ipython3",
   "version": "3.11.2"
  }
 },
 "nbformat": 4,
 "nbformat_minor": 2
}
