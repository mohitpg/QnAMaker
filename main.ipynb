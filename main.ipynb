{
 "cells": [
  {
   "cell_type": "code",
   "execution_count": 4,
   "metadata": {},
   "outputs": [
    {
     "name": "stdout",
     "output_type": "stream",
     "text": [
      "LangGraph is an open-source, AI-powered language model developed by the LangGraph team. It's designed to process and generate human-like language, similar to other popular language models like ChatGPT or BERT.\n",
      "\n",
      "LangGraph uses a graph-based architecture, which allows it to represent language as a complex network of interconnected concepts, entities, and relationships. This approach enables the model to capture nuanced semantic relationships and generate more coherent, context-dependent text.\n",
      "\n",
      "Some key features of LangGraph include:\n",
      "\n",
      "1. **Graph-based architecture**: LangGraph represents language as a graph, where nodes represent concepts, entities, or words, and edges represent relationships between them.\n",
      "2. **Knowledge graph integration**: LangGraph can be integrated with external knowledge graphs, allowing it to tap into a vast repository of knowledge and generate more informed, accurate text.\n",
      "3. **Multitask learning**: LangGraph is trained on multiple tasks simultaneously, such as language translation, question answering, and text generation, which helps it develop a more comprehensive understanding of language.\n",
      "4. **Open-source**: LangGraph is open-source, which means that developers and researchers can access, modify, and extend the model to suit their specific needs.\n",
      "\n",
      "LangGraph has many potential applications, including:\n",
      "\n",
      "1. **Natural Language Processing (NLP)**: LangGraph can be used for tasks like language translation, sentiment analysis, and text summarization.\n",
      "2. **Chatbots and conversational AI**: LangGraph can be used to power chatbots, virtual assistants, and other conversational AI systems.\n",
      "3. **Content generation**: LangGraph can be used to generate high-quality content, such as articles, stories, or dialogues.\n",
      "4. **Research and development**: LangGraph can be used as a research tool to study language, cognition, and AI.\n",
      "\n",
      "Overall, LangGraph is an innovative language model that has the potential to revolutionize the way we interact with language and AI systems.\n"
     ]
    }
   ],
   "source": [
    "from langchain_groq import ChatGroq\n",
    "import os \n",
    "from dotenv import load_dotenv\n",
    "\n",
    "load_dotenv()\n",
    "llm = ChatGroq(\n",
    "    temperature=0,\n",
    "    groq_api_key = os.environ['GROQ_KEY'],\n",
    "    model_name=\"llama-3.3-70b-versatile\"\n",
    ")\n",
    "\n",
    "result = llm.invoke(\"What is Langgraph?\")\n",
    "print(result.content)"
   ]
  }
 ],
 "metadata": {
  "kernelspec": {
   "display_name": "Python 3",
   "language": "python",
   "name": "python3"
  },
  "language_info": {
   "codemirror_mode": {
    "name": "ipython",
    "version": 3
   },
   "file_extension": ".py",
   "mimetype": "text/x-python",
   "name": "python",
   "nbconvert_exporter": "python",
   "pygments_lexer": "ipython3",
   "version": "3.11.2"
  }
 },
 "nbformat": 4,
 "nbformat_minor": 2
}
