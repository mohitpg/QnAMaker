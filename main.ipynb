{
 "cells": [
  {
   "cell_type": "code",
   "execution_count": 1,
   "metadata": {},
   "outputs": [],
   "source": [
    "from langchain_groq import ChatGroq\n",
    "import os \n",
    "from dotenv import load_dotenv\n",
    "\n",
    "load_dotenv()\n",
    "llm = ChatGroq(\n",
    "    temperature=0,\n",
    "    groq_api_key = os.environ['GROQ_KEY'],\n",
    "    model_name=\"llama-3.3-70b-versatile\"\n",
    ")\n",
    "\n",
    "# result = llm.invoke(\"What is Langgraph?\")\n",
    "# print(result.content)"
   ]
  },
  {
   "cell_type": "code",
   "execution_count": 2,
   "metadata": {},
   "outputs": [],
   "source": [
    "from pydantic import BaseModel, Field\n",
    "from typing import List\n",
    "from typing_extensions import TypedDict\n",
    "\n",
    "class Question(BaseModel):\n",
    "    question: str = Field(\n",
    "        question=\"The question asked by the examiner\",\n",
    "    )\n",
    "    @property\n",
    "    def qn(self) -> str:\n",
    "        return f\"Question: {self.question}\\n\"\n",
    "\n",
    "class Perspectives(BaseModel):\n",
    "    questions: List[Question] = Field(\n",
    "        description=\"List of questions asked by the examiner\",\n",
    "    )\n",
    "\n",
    "class GenerateQuestionsState(TypedDict):\n",
    "    grade: str # Grade that examiner teaches\n",
    "    subject: str # Subject that examiner teaches\n",
    "    max_questions: int # Number of questions\n",
    "    human_feedback: str # Human feedback\n",
    "    questions: List[Question] # Questions asked by examiner"
   ]
  },
  {
   "cell_type": "code",
   "execution_count": 3,
   "metadata": {},
   "outputs": [
    {
     "data": {
      "image/jpeg": "[encoded data removed]",
      "text/plain": [
       "<IPython.core.display.Image object>"
      ]
     },
     "metadata": {},
     "output_type": "display_data"
    }
   ],
   "source": [
    "from IPython.display import Image, display\n",
    "from langgraph.graph import START, END, StateGraph\n",
    "from langgraph.checkpoint.memory import MemorySaver\n",
    "from langchain_core.messages import AIMessage, HumanMessage, SystemMessage\n",
    "\n",
    "examiner_instructions=\"\"\"You are an examiner tasked with creating questions that will have detailed answers. Follow these instructions carefully:\n",
    "\n",
    "1. First, get the grade that the examiner teaches:\n",
    "{grade}\n",
    "        \n",
    "1. Then, get the subject that the examiner teaches:\n",
    "{subject}\n",
    "\n",
    "2. Examine any feedback given to guide the creation of questions: \n",
    "        \n",
    "{human_feedback}\n",
    "    \n",
    "3. Determine the questions appropriate for the grade and subject and consider human feedback if any.\n",
    "                    \n",
    "4. Return the top {max_questions} questions.\"\"\"\n",
    "\n",
    "def create_questions(state: GenerateQuestionsState):\n",
    "    \n",
    "    grade=state['grade']\n",
    "    subject=state['subject']\n",
    "    max_questions=state['max_questions']\n",
    "    human_feedback=state.get('human_feedback', '')\n",
    "        \n",
    "    # Enforce structured output\n",
    "    structured_llm = llm.with_structured_output(Perspectives)\n",
    "\n",
    "    # System message\n",
    "    system_message = examiner_instructions.format(grade=grade,\n",
    "                                                  subject=subject,\n",
    "                                                  human_feedback=human_feedback, \n",
    "                                                  max_questions=max_questions)\n",
    "\n",
    "    # Generate question \n",
    "    questions = structured_llm.invoke([SystemMessage(content=system_message)]+[HumanMessage(content=\"Generate the set of questions.\")])\n",
    "    \n",
    "    # Write the list of questionss to state\n",
    "    return {\"questions\": questions.questions}\n",
    "\n",
    "def feedback(state: GenerateQuestionsState):\n",
    "    \"\"\" No-op node that should be interrupted on \"\"\"\n",
    "    pass\n",
    "\n",
    "def should_continue(state: GenerateQuestionsState):\n",
    "    \"\"\" Return the next node to execute \"\"\"\n",
    "\n",
    "    # Check if human feedback\n",
    "    human_feedback=state.get('human_feedback', None)\n",
    "    if human_feedback:\n",
    "        return \"create_questions\"\n",
    "    \n",
    "    # Otherwise end\n",
    "    return END\n",
    "\n",
    "# Add nodes and edges \n",
    "builder = StateGraph(GenerateQuestionsState)\n",
    "builder.add_node(\"create_questions\", create_questions)\n",
    "builder.add_node(\"feedback\", feedback)\n",
    "builder.add_edge(START, \"create_questions\")\n",
    "builder.add_edge(\"create_questions\", \"feedback\")\n",
    "builder.add_conditional_edges(\"feedback\", should_continue, [\"create_questions\", END])\n",
    "\n",
    "# Compile\n",
    "memory = MemorySaver()\n",
    "graph = builder.compile(interrupt_before=['feedback'], checkpointer=memory)\n",
    "\n",
    "# View\n",
    "display(Image(graph.get_graph(xray=1).draw_mermaid_png()))"
   ]
  },
  {
   "cell_type": "code",
   "execution_count": 4,
   "metadata": {},
   "outputs": [
    {
     "name": "stdout",
     "output_type": "stream",
     "text": [
      "Question0: What were the main causes of the American Revolution?\n",
      "--------------------------------------------------\n",
      "Question1: How did the Industrial Revolution impact society in the 18th and 19th centuries?\n",
      "--------------------------------------------------\n",
      "Question2: What were the key factors that led to the rise and fall of the Roman Empire?\n",
      "--------------------------------------------------\n"
     ]
    }
   ],
   "source": [
    "grade = \"8th\"\n",
    "subject = \"history\"\n",
    "max_questions = 3\n",
    "thread = {\"configurable\": {\"thread_id\": \"1\"}}\n",
    "\n",
    "for event in graph.stream({\"grade\":grade,\"subject\":subject,\"max_questions\":max_questions}, thread, stream_mode=\"values\"):\n",
    "    # Review\n",
    "    questions = event.get('questions', '')\n",
    "    if questions:\n",
    "        for idx,question in enumerate(questions):\n",
    "            print(f\"Question{idx}: {question.question}\")\n",
    "            print(\"-\" * 50)  "
   ]
  },
  {
   "cell_type": "code",
   "execution_count": 5,
   "metadata": {},
   "outputs": [
    {
     "data": {
      "text/plain": [
       "('feedback',)"
      ]
     },
     "execution_count": 5,
     "metadata": {},
     "output_type": "execute_result"
    }
   ],
   "source": [
    "state = graph.get_state(thread)\n",
    "state.next"
   ]
  },
  {
   "cell_type": "code",
   "execution_count": 6,
   "metadata": {},
   "outputs": [
    {
     "data": {
      "text/plain": [
       "{'configurable': {'thread_id': '1',\n",
       "  'checkpoint_ns': '',\n",
       "  'checkpoint_id': '1efda289-e2b4-608b-8002-0929a5cbe374'}}"
      ]
     },
     "execution_count": 6,
     "metadata": {},
     "output_type": "execute_result"
    }
   ],
   "source": [
    "graph.update_state(thread, {\"human_feedback\": \n",
    "                            \"Add a question related to Prussia\"}, as_node=\"feedback\")"
   ]
  },
  {
   "cell_type": "code",
   "execution_count": 7,
   "metadata": {},
   "outputs": [
    {
     "name": "stdout",
     "output_type": "stream",
     "text": [
      "Question0: What were the main causes of the American Revolution?\n",
      "--------------------------------------------------\n",
      "Question1: How did the Industrial Revolution impact society in the 18th and 19th centuries?\n",
      "--------------------------------------------------\n",
      "Question2: What were the key factors that led to the rise and fall of the Roman Empire?\n",
      "--------------------------------------------------\n",
      "Question0: What were the main factors that led to the rise of Prussia as a major power in 18th century Europe?\n",
      "--------------------------------------------------\n",
      "Question1: How did the Congress of Vienna in 1815 affect the territorial boundaries of Prussia?\n",
      "--------------------------------------------------\n",
      "Question2: What role did Otto von Bismarck play in the unification of Germany, and how did Prussia benefit from this unification?\n",
      "--------------------------------------------------\n"
     ]
    }
   ],
   "source": [
    "for event in graph.stream({\"grade\":grade,\"subject\":subject,\"max_questions\":max_questions}, thread, stream_mode=\"values\"):\n",
    "    # Review\n",
    "    questions = event.get('questions', '')\n",
    "    if questions:\n",
    "        for idx,question in enumerate(questions):\n",
    "            print(f\"Question{idx}: {question.question}\")\n",
    "            print(\"-\" * 50)  "
   ]
  }
 ],
 "metadata": {
  "kernelspec": {
   "display_name": "Python 3",
   "language": "python",
   "name": "python3"
  },
  "language_info": {
   "codemirror_mode": {
    "name": "ipython",
    "version": 3
   },
   "file_extension": ".py",
   "mimetype": "text/x-python",
   "name": "python",
   "nbconvert_exporter": "python",
   "pygments_lexer": "ipython3",
   "version": "3.11.2"
  }
 },
 "nbformat": 4,
 "nbformat_minor": 2
}
